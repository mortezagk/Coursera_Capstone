{
 "cells": [
  {
   "cell_type": "markdown",
   "metadata": {},
   "source": [
    "# Battle of the Neighborhoods (Part 1) - Week 4\n",
    "by **Morteza Ghorbani Kari**\n",
    "\n",
    "**IBM Data Science Professional Certificate Capstone Project**\n",
    "***"
   ]
  },
  {
   "cell_type": "markdown",
   "metadata": {},
   "source": [
    "## 1. Introduction/Business Problem"
   ]
  },
  {
   "cell_type": "markdown",
   "metadata": {},
   "source": [
    "Here we clearly define a problem or an idea, where we would need to leverage the Foursquare location data to solve or execute. Data science problems always target an audience and are meant to help a group of stakeholders solve a problem, so we explicitly describe our audience and why they would care about this problem. When we are going to start considering a problem, we need to clearly define the goals.\n",
    "\n",
    "When the cost of real estate rises, people (especially those who rent) are forced to relocate, so it is an important problem to be considered, especially if we can address it with tools that data science provides for us.\n",
    "\n",
    "People who are considering relocating from their current residence (for economic or other reasons), but don't want to lose the convenience of the facilities (venues) close to their home/office. So by giving them a chance to look for similar districts, we can lower the inconvenience for them.\n",
    "\n",
    "**Three groups will benefit from the results of this project:**\n",
    "- Families who are looking toward similar districts for relocation (based on accessible venues).\n",
    "- Managers who are considering relocating to a new place which has similar services available near it.\n",
    "- Realtors who need to offer the best options to their customers (ones with the highest chance of acceptance by the customer).\n",
    "\n",
    "To conclude, in this project we are going to analyze the similarity of districts in Istanbul based on the variety of the venues available."
   ]
  },
  {
   "cell_type": "markdown",
   "metadata": {},
   "source": [
    "## 2. Data"
   ]
  },
  {
   "cell_type": "markdown",
   "metadata": {},
   "source": [
    "**In this section, we describe the data collection process and the data we will be using to execute the idea.**\n",
    "\n",
    "### The data used in this project is from the following  sources:\n",
    "- **List of Districts of Istanbul:** Available at the Wikipedia page: [List of districts of Istanbul](https://en.wikipedia.org/wiki/List_of_districts_of_Istanbul)\n",
    "- **GeoPy API:** From which district coordinates were retrieved.\n",
    "- **FourSquare API:** From which venue information was retrieved.\n",
    "\n",
    "### Steps taken to collect and clean the data:\n",
    "- Using **Beautiful Soup**, we **scraped** the Wikipedia page ([List of districts of Istanbul](https://en.wikipedia.org/wiki/List_of_districts_of_Istanbul)).\n",
    "- Now, the data only consists of district names in a DataFrame (A total of 39 districts).\n",
    "- Using **GeoPy API**, we constructed a function which **receives the district Name** and **returns Latitude and Longitude** of the districts' center point.\n",
    "- Now, the data consists of 39 district names, Latitudes and Longitudes in a DataFrame.\n",
    "#### Here you can see the first 10 rows of istanbul_districts DataFrame:\n",
    "![istanbul_districts DataFrame](./Districts.png)\n",
    "- Next, we performed calculations in order to see **what is the minimum distance between district center points**. It happened to be 1.5 KMs, so we came to the conclusion to **use half of that number (750 m) as the radius of search for venues** in each District -in order to avoid receiving venue information of a venue from two overlapping districts.\n",
    "- Using **FourSquare API** we pass each district's Name, Coordinates and radius(which we calculated in the previous step) and **received venue information** and stored them in a DataFrame to be processed in later steps (We received a total of 3134 venues from FourSquare API)\n",
    "#### Here you can see the first 10 rows of istanbul_venues DataFrame:\n",
    "![istanbul_venues DataFrame](./Venues.png)\n",
    "- Next, we perform oneHotEncoding based on venue categories and calculate the mean occurrance of each category in each district. (There are 296 unique venue categories.) \n",
    "\n",
    "\n",
    "### Describing the data\n",
    "Now that we have the preprocessed data of the **shape 39\\*297** (column 1 is used for district name), we can proceed to the next steps.\n",
    "#### in this data set:\n",
    "- Each row represents a District\n",
    "- Each column (except the first one) represents the occurrence of a unique venue category\n",
    "\n",
    "#### Here you can see the first few rows and columns from the preprocessed data:\n",
    "![Dataset](./Dataset.png)\n",
    "\n",
    "**Note:** The codes for this section can be accessed via the GitHub, here: [Data Section Code](https://github.com/mortezagk/Coursera_Capstone/blob/master/week4/code_scrape_locate_preprocess.ipynb)"
   ]
  },
  {
   "cell_type": "markdown",
   "metadata": {},
   "source": [
    "\n",
    "\n",
    "\n",
    "\n",
    "\n",
    "\n",
    "\n",
    "\n",
    "\n",
    "\n",
    "\n",
    "\n",
    "\n",
    "\n",
    "\n",
    "\n",
    "\n",
    "\n"
   ]
  }
 ],
 "metadata": {
  "kernelspec": {
   "display_name": "Python 3",
   "language": "python",
   "name": "python3"
  },
  "language_info": {
   "codemirror_mode": {
    "name": "ipython",
    "version": 3
   },
   "file_extension": ".py",
   "mimetype": "text/x-python",
   "name": "python",
   "nbconvert_exporter": "python",
   "pygments_lexer": "ipython3",
   "version": "3.7.5"
  }
 },
 "nbformat": 4,
 "nbformat_minor": 2
}
